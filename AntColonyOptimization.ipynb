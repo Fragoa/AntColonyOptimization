{
  "nbformat": 4,
  "nbformat_minor": 0,
  "metadata": {
    "colab": {
      "provenance": [],
      "authorship_tag": "ABX9TyNQUBVb6+i1hlZJ9Ou/tvag",
      "include_colab_link": true
    },
    "kernelspec": {
      "name": "python3",
      "display_name": "Python 3"
    },
    "language_info": {
      "name": "python"
    }
  },
  "cells": [
    {
      "cell_type": "markdown",
      "metadata": {
        "id": "view-in-github",
        "colab_type": "text"
      },
      "source": [
        "<a href=\"https://colab.research.google.com/github/Fragoa/AntColonyOptimization/blob/main/AntColonyOptimization.ipynb\" target=\"_parent\"><img src=\"https://colab.research.google.com/assets/colab-badge.svg\" alt=\"Open In Colab\"/></a>"
      ]
    },
    {
      "cell_type": "code",
      "source": [
        "# Required Libraries\n",
        "import pandas as pd\n",
        "import random\n",
        "import numpy  as np\n",
        "import copy\n",
        "import os\n",
        "from matplotlib import pyplot as plt"
      ],
      "metadata": {
        "id": "Q6RujJIo03VQ"
      },
      "execution_count": 15,
      "outputs": []
    },
    {
      "cell_type": "code",
      "source": [
        "# Function: Tour Distance\n",
        "def distance_calc(Xdata, city_tour):\n",
        "    distance = 0\n",
        "    for k in range(0, len(city_tour[0])-1):\n",
        "        m = k + 1\n",
        "        distance = distance + Xdata[city_tour[0][k]-1, city_tour[0][m]-1]\n",
        "    return distance"
      ],
      "metadata": {
        "id": "SrK-PDa203tk"
      },
      "execution_count": 16,
      "outputs": []
    },
    {
      "cell_type": "code",
      "source": [
        "# Function: Euclidean Distance\n",
        "def euclidean_distance(x, y):\n",
        "    distance = 0\n",
        "    for j in range(0, len(x)):\n",
        "        distance = (x[j] - y[j])**2 + distance\n",
        "    return distance**(1/2)"
      ],
      "metadata": {
        "id": "S3z5Fued06xx"
      },
      "execution_count": 17,
      "outputs": []
    },
    {
      "cell_type": "code",
      "source": [
        "# Function: Build Distance Matrix\n",
        "def buid_distance_matrix(coordinates):\n",
        "    Xdata = np.zeros((coordinates.shape[0], coordinates.shape[0]))\n",
        "    for i in range(0, Xdata.shape[0]):\n",
        "        for j in range(0, Xdata.shape[1]):\n",
        "            if (i != j):\n",
        "                x = coordinates[i,:]\n",
        "                y = coordinates[j,:]\n",
        "                Xdata[i,j] = euclidean_distance(x, y)\n",
        "    return Xdata"
      ],
      "metadata": {
        "id": "bvCSQ9EZ0_4_"
      },
      "execution_count": 18,
      "outputs": []
    },
    {
      "cell_type": "code",
      "source": [
        "# Function: Tour Plot\n",
        "def plot_tour_distance_matrix(Xdata, city_tour):\n",
        "    m = np.copy(Xdata)\n",
        "    for i in range(0, Xdata.shape[0]):\n",
        "        for j in range(0, Xdata.shape[1]):\n",
        "            m[i,j] = (1/2)*(Xdata[0,j]**2 + Xdata[i,0]**2 - Xdata[i,j]**2)\n",
        "    w, u = np.linalg.eig(np.matmul(m.T, m))\n",
        "    s = (np.diag(np.sort(w)[::-1]))**(1/2)\n",
        "    coordinates = np.matmul(u, s**(1/2))\n",
        "    coordinates = coordinates.real[:,0:2]\n",
        "    xy = np.zeros((len(city_tour[0]), 2))\n",
        "    for i in range(0, len(city_tour[0])):\n",
        "        if (i < len(city_tour[0])):\n",
        "            xy[i, 0] = coordinates[city_tour[0][i]-1, 0]\n",
        "            xy[i, 1] = coordinates[city_tour[0][i]-1, 1]\n",
        "        else:\n",
        "            xy[i, 0] = coordinates[city_tour[0][0]-1, 0]\n",
        "            xy[i, 1] = coordinates[city_tour[0][0]-1, 1]\n",
        "    plt.plot(xy[:,0], xy[:,1], marker = 's', alpha = 1, markersize = 7, color = 'black')\n",
        "    plt.plot(xy[0,0], xy[0,1], marker = 's', alpha = 1, markersize = 7, color = 'red')\n",
        "    plt.plot(xy[1,0], xy[1,1], marker = 's', alpha = 1, markersize = 7, color = 'orange')\n",
        "    return"
      ],
      "metadata": {
        "id": "SiSxtD681AgN"
      },
      "execution_count": 19,
      "outputs": []
    },
    {
      "cell_type": "code",
      "source": [
        "# Function: Initial Attractiveness\n",
        "def attractiveness(Xdata):\n",
        "    h = np.zeros((Xdata.shape[0], Xdata.shape[0]))\n",
        "    for i in range(0, Xdata.shape[0]):\n",
        "        for j in range(0, Xdata.shape[1]):\n",
        "            if (i == j or Xdata[i,j] == 0):\n",
        "                h[i, j] = 0.000001\n",
        "            else:\n",
        "                h[i, j] = 1/Xdata[i,j]\n",
        "    return h"
      ],
      "metadata": {
        "id": "ylNdHWhS1DaS"
      },
      "execution_count": 20,
      "outputs": []
    },
    {
      "cell_type": "code",
      "source": [
        "# Function: Tour Plot\n",
        "def plot_tour_coordinates(coordinates, city_tour):\n",
        "    xy = np.zeros((len(city_tour[0]), 2))\n",
        "    for i in range(0, len(city_tour[0])):\n",
        "        if (i < len(city_tour[0])):\n",
        "            xy[i, 0] = coordinates[city_tour[0][i]-1, 0]\n",
        "            xy[i, 1] = coordinates[city_tour[0][i]-1, 1]\n",
        "        else:\n",
        "            xy[i, 0] = coordinates[city_tour[0][0]-1, 0]\n",
        "            xy[i, 1] = coordinates[city_tour[0][0]-1, 1]\n",
        "    plt.plot(xy[:,0], xy[:,1], marker = 's', alpha = 1, markersize = 7, color = 'black')\n",
        "    plt.plot(xy[0,0], xy[0,1], marker = 's', alpha = 1, markersize = 7, color = 'red')\n",
        "    plt.plot(xy[1,0], xy[1,1], marker = 's', alpha = 1, markersize = 7, color = 'orange')\n",
        "    return"
      ],
      "metadata": {
        "id": "N18hmhwL1GUa"
      },
      "execution_count": 21,
      "outputs": []
    },
    {
      "cell_type": "code",
      "source": [
        "# Function: Probability Matrix\n",
        "def city_probability(h, thau, city = 0, alpha = 1, beta = 2, city_list = []):\n",
        "    probability = np.zeros((h.shape[0], 3)) # ['atraction','probability','cumulative_probability']\n",
        "    for i in range(0, probability.shape[0]):\n",
        "        if (i+1 not in city_list):\n",
        "            probability[i, 0] = (thau[i, city]**alpha)*(h[i, city]**beta)\n",
        "    for i in range(0, probability.shape[0]):\n",
        "        if (i+1 not in city_list and probability[:,0].sum() != 0):\n",
        "            probability[i, 1] = probability[i, 0]/probability[:,0].sum()\n",
        "        if (i == 0):\n",
        "            probability[i, 2] =  probability[i, 1]\n",
        "        else:\n",
        "            probability[i, 2] = probability[i, 1] + probability[i - 1, 2]\n",
        "    if (len(city_list) > 0):\n",
        "        for i in range(0, len(city_list)):\n",
        "            probability[city_list[i]-1, 2] = 0.0\n",
        "    return probability"
      ],
      "metadata": {
        "id": "iR83KEP-1Ipr"
      },
      "execution_count": 22,
      "outputs": []
    },
    {
      "cell_type": "code",
      "source": [
        "# Function: Select Next City\n",
        "def city_selection(probability_matrix, city_list = []):\n",
        "    random = int.from_bytes(os.urandom(8), byteorder = \"big\") / ((1 << 64) - 1)\n",
        "    city = 0\n",
        "    for i in range(0, probability_matrix.shape[0]):\n",
        "        if (random <= probability_matrix[i, 2] and i+1 not in city_list):\n",
        "          city = i+1\n",
        "          break\n",
        "    return city"
      ],
      "metadata": {
        "id": "R9MKGcns1Lmc"
      },
      "execution_count": 23,
      "outputs": []
    },
    {
      "cell_type": "code",
      "source": [
        "# Function: Update Thau\n",
        "def update_thau(Xdata, thau, city_list = []):\n",
        "    distance = 0\n",
        "    for i in range(0, len(city_list)-1):\n",
        "        j = i + 1\n",
        "        distance = distance + Xdata[city_list[i]-1,city_list[j]-1]\n",
        "    pheromone = 1\n",
        "    for i in range(0, len(city_list)-1):\n",
        "        j = i + 1\n",
        "        thau[city_list[i]-1,city_list[j]-1] = thau[city_list[i]-1,city_list[j]-1] + pheromone\n",
        "    return thau"
      ],
      "metadata": {
        "id": "ChFwGL8D1PE0"
      },
      "execution_count": 24,
      "outputs": []
    },
    {
      "cell_type": "code",
      "source": [
        "# Function: 2_opt\n",
        "def local_search_2_opt(Xdata, city_tour, recursive_seeding = -1):\n",
        "    if (recursive_seeding < 0):\n",
        "        count = -2\n",
        "    else:\n",
        "        count = 0\n",
        "    city_list_new = copy.deepcopy([city_tour[0]])\n",
        "    city_list_new.append(city_tour[1])\n",
        "    city_list_old = city_list_new[1]*2\n",
        "    iteration = 0\n",
        "    while (count < recursive_seeding):\n",
        "        best_route = copy.deepcopy(city_list_new)\n",
        "        seed = copy.deepcopy(city_list_new)\n",
        "        for i in range(0, len(city_list_new[0]) - 2):\n",
        "            for j in range(i+1, len(city_list_new[0]) - 1):\n",
        "                best_route[0][i:j+1] = list(reversed(best_route[0][i:j+1]))\n",
        "                best_route[0][-1]  = best_route[0][0]\n",
        "                best_route[1] = distance_calc(Xdata, best_route)\n",
        "                if (city_list_new[1] > best_route[1]):\n",
        "                    city_list_new = copy.deepcopy(best_route)\n",
        "                best_route = copy.deepcopy(seed)\n",
        "        count = count + 1\n",
        "        iteration = iteration + 1\n",
        "        if (city_list_old > city_list_new[1] and recursive_seeding < 0):\n",
        "             city_list_old = city_list_new[1]\n",
        "             count = -2\n",
        "             recursive_seeding = -1\n",
        "        elif(city_list_new[1] >= city_list_old and recursive_seeding < 0):\n",
        "            count = -1\n",
        "            recursive_seeding = -2\n",
        "    return city_list_new[0], city_list_new[1]"
      ],
      "metadata": {
        "id": "2gIISWpf1R0R"
      },
      "execution_count": 25,
      "outputs": []
    },
    {
      "cell_type": "code",
      "source": [
        "# Function: Ants City List\n",
        "def ants_path(Xdata, h, thau, alpha, beta, full_list, ants):\n",
        "    distance           = np.sum(Xdata.sum())\n",
        "    best_city_list     = []\n",
        "    best_path_distance = []\n",
        "    for ant in range(0, ants):\n",
        "        city_list = []\n",
        "        initial = random.randrange(1, Xdata.shape[0])\n",
        "        city_list.append(initial)\n",
        "        for i in range(0, Xdata.shape[0] - 1):\n",
        "            probability = city_probability(h, thau, city = i, alpha = alpha, beta = beta, city_list = city_list)\n",
        "            path_point  = city_selection(probability, city_list = city_list)\n",
        "            if (path_point == 0):\n",
        "                path_point = [value for value in full_list if value not in city_list][0]\n",
        "            city_list.append(path_point)\n",
        "        city_list.append(city_list[0])\n",
        "        path_distance = 0\n",
        "        for i in range(0, len(city_list)-1):\n",
        "            j = i + 1\n",
        "            path_distance = path_distance + Xdata[city_list[i]-1,city_list[j]-1]\n",
        "        if (distance > path_distance):\n",
        "            best_city_list     = copy.deepcopy(city_list)\n",
        "            best_path_distance = path_distance\n",
        "            distance           = path_distance\n",
        "    best_route = copy.deepcopy([best_city_list])\n",
        "    best_route.append(best_path_distance)\n",
        "    best_city_list, best_path_distance = local_search_2_opt(Xdata, city_tour = best_route, recursive_seeding = -1)\n",
        "    thau = update_thau(Xdata, thau, city_list = best_city_list)\n",
        "    return best_city_list, best_path_distance, thau"
      ],
      "metadata": {
        "id": "H1s4NlJu1VvR"
      },
      "execution_count": 26,
      "outputs": []
    },
    {
      "cell_type": "code",
      "source": [
        "# ACO Function\n",
        "def ant_colony_optimization(Xdata, ants = 5, iterations = 50, alpha = 1, beta = 2, decay = 0.05):\n",
        "    count       = 0\n",
        "    best_route  = []\n",
        "    full_list   = list(range(1, Xdata.shape[0] + 1))\n",
        "    distance    = np.sum(Xdata.sum())\n",
        "    h           = attractiveness(Xdata)\n",
        "    thau        = np.ones((Xdata.shape[0], Xdata.shape[0]))\n",
        "    while (count <= iterations):\n",
        "        if (count > 0):\n",
        "            print(\"Iteration = \", count, \" -> Distance = \", best_route[1])\n",
        "        city_list, path_distance, thau = ants_path(Xdata, h, thau, alpha, beta, full_list, ants)\n",
        "        thau = thau*(1 - decay)\n",
        "        if (distance > path_distance):\n",
        "            best_route = copy.deepcopy([city_list])\n",
        "            best_route.append(path_distance)\n",
        "            distance = best_route[1]\n",
        "        count = count + 1\n",
        "    print(best_route)\n",
        "    return  best_route"
      ],
      "metadata": {
        "id": "u9ax-JdB1YjF"
      },
      "execution_count": 27,
      "outputs": []
    },
    {
      "cell_type": "code",
      "source": [
        "# Load File - A Distance Matrix (17 cities,  optimal = 1922.33)\n",
        "X = pd.read_csv('Python-MH-Ant Colony Optimization-Dataset-01.txt', sep = '\\t')\n",
        "X = X.values\n",
        "\n",
        "# Call the Function\n",
        "aco = ant_colony_optimization(X, ants = 2, iterations = 10, alpha = 1, beta = 2, decay = 0.10)\n",
        "\n",
        "# Plot Solution. Red Point = Initial city; Orange Point = Second City # The generated coordinates (2D projection) are aproximated, depending on the data, the optimum tour may present crosses\n",
        "plot_tour_distance_matrix(X, aco)"
      ],
      "metadata": {
        "colab": {
          "base_uri": "https://localhost:8080/",
          "height": 621
        },
        "id": "oqzSrM9N1bdu",
        "outputId": "90e98a73-db43-4d8e-efd1-9e656b98a865"
      },
      "execution_count": 28,
      "outputs": [
        {
          "output_type": "stream",
          "name": "stdout",
          "text": [
            "Iteration =  1  -> Distance =  2008.9872729359645\n",
            "Iteration =  2  -> Distance =  1922.3293587909286\n",
            "Iteration =  3  -> Distance =  1922.3293587909286\n",
            "Iteration =  4  -> Distance =  1922.3293587909286\n",
            "Iteration =  5  -> Distance =  1922.3293587909286\n",
            "Iteration =  6  -> Distance =  1922.3293587909286\n",
            "Iteration =  7  -> Distance =  1922.3293587909286\n",
            "Iteration =  8  -> Distance =  1922.3293587909286\n",
            "Iteration =  9  -> Distance =  1922.3293587909286\n",
            "Iteration =  10  -> Distance =  1922.3293587909286\n",
            "[[7, 13, 1, 4, 16, 12, 9, 5, 2, 10, 11, 3, 15, 14, 6, 17, 8, 7], np.float64(1922.3293587909286)]\n"
          ]
        },
        {
          "output_type": "display_data",
          "data": {
            "text/plain": [
              "<Figure size 640x480 with 1 Axes>"
            ],
            "image/png": "[encoded data removed]"
          },
          "metadata": {}
        }
      ]
    },
    {
      "cell_type": "code",
      "source": [
        "# Load File - Coordinates (Berlin 52,  optimal = 7544.37)\n",
        "Y = pd.read_csv('Python-MH-Ant Colony Optimization-Dataset-02.txt', sep = '\\t')\n",
        "Y = Y.values\n",
        "\n",
        "# Build the Distance Matrix\n",
        "X = buid_distance_matrix(Y)\n",
        "\n",
        "# Call the Function\n",
        "aco = ant_colony_optimization(X, ants = 4, iterations = 50, alpha = 1, beta = 2, decay = 0.10)\n",
        "\n",
        "# Plot Solution. Red Point = Initial city; Orange Point = Second City\n",
        "plot_tour_coordinates(Y, aco)"
      ],
      "metadata": {
        "colab": {
          "base_uri": "https://localhost:8080/",
          "height": 1000
        },
        "id": "hpFF00Iv2J5V",
        "outputId": "c06158c7-e9e0-4cb4-dd6d-2518b87554dd"
      },
      "execution_count": 29,
      "outputs": [
        {
          "output_type": "stream",
          "name": "stdout",
          "text": [
            "Iteration =  1  -> Distance =  7958.640673911277\n",
            "Iteration =  2  -> Distance =  7958.640673911277\n",
            "Iteration =  3  -> Distance =  7958.640673911277\n",
            "Iteration =  4  -> Distance =  7958.640673911277\n",
            "Iteration =  5  -> Distance =  7763.386385948762\n",
            "Iteration =  6  -> Distance =  7763.386385948762\n",
            "Iteration =  7  -> Distance =  7763.386385948762\n",
            "Iteration =  8  -> Distance =  7763.386385948762\n",
            "Iteration =  9  -> Distance =  7763.386385948762\n",
            "Iteration =  10  -> Distance =  7763.386385948762\n",
            "Iteration =  11  -> Distance =  7763.386385948762\n",
            "Iteration =  12  -> Distance =  7763.386385948762\n",
            "Iteration =  13  -> Distance =  7763.386385948762\n",
            "Iteration =  14  -> Distance =  7763.386385948762\n",
            "Iteration =  15  -> Distance =  7763.386385948762\n",
            "Iteration =  16  -> Distance =  7723.696096257913\n",
            "Iteration =  17  -> Distance =  7723.696096257913\n",
            "Iteration =  18  -> Distance =  7723.696096257913\n",
            "Iteration =  19  -> Distance =  7723.696096257913\n",
            "Iteration =  20  -> Distance =  7723.696096257913\n",
            "Iteration =  21  -> Distance =  7723.696096257913\n",
            "Iteration =  22  -> Distance =  7723.696096257913\n",
            "Iteration =  23  -> Distance =  7723.696096257913\n",
            "Iteration =  24  -> Distance =  7723.696096257913\n",
            "Iteration =  25  -> Distance =  7723.696096257913\n",
            "Iteration =  26  -> Distance =  7723.696096257913\n",
            "Iteration =  27  -> Distance =  7723.696096257913\n",
            "Iteration =  28  -> Distance =  7723.696096257913\n",
            "Iteration =  29  -> Distance =  7723.696096257913\n",
            "Iteration =  30  -> Distance =  7723.696096257913\n",
            "Iteration =  31  -> Distance =  7723.696096257913\n",
            "Iteration =  32  -> Distance =  7723.696096257913\n",
            "Iteration =  33  -> Distance =  7723.696096257913\n",
            "Iteration =  34  -> Distance =  7723.696096257913\n",
            "Iteration =  35  -> Distance =  7723.696096257913\n",
            "Iteration =  36  -> Distance =  7723.696096257913\n",
            "Iteration =  37  -> Distance =  7723.696096257913\n",
            "Iteration =  38  -> Distance =  7723.696096257913\n",
            "Iteration =  39  -> Distance =  7723.696096257913\n",
            "Iteration =  40  -> Distance =  7723.696096257913\n",
            "Iteration =  41  -> Distance =  7723.696096257913\n",
            "Iteration =  42  -> Distance =  7723.696096257913\n",
            "Iteration =  43  -> Distance =  7544.36590190409\n",
            "Iteration =  44  -> Distance =  7544.36590190409\n",
            "Iteration =  45  -> Distance =  7544.36590190409\n",
            "Iteration =  46  -> Distance =  7544.36590190409\n",
            "Iteration =  47  -> Distance =  7544.36590190409\n",
            "Iteration =  48  -> Distance =  7544.36590190409\n",
            "Iteration =  49  -> Distance =  7544.36590190409\n",
            "Iteration =  50  -> Distance =  7544.36590190409\n",
            "[[25, 12, 28, 27, 26, 47, 13, 14, 52, 11, 51, 33, 43, 10, 9, 8, 41, 19, 45, 32, 49, 1, 22, 31, 18, 3, 17, 21, 42, 7, 2, 30, 23, 20, 50, 29, 16, 46, 44, 34, 35, 36, 39, 40, 37, 38, 48, 24, 5, 15, 6, 4, 25], np.float64(7544.365901904086)]\n"
          ]
        },
        {
          "output_type": "display_data",
          "data": {
            "text/plain": [
              "<Figure size 640x480 with 1 Axes>"
            ],
            "image/png": "[encoded data removed]"
          },
          "metadata": {}
        }
      ]
    }
  ]
}